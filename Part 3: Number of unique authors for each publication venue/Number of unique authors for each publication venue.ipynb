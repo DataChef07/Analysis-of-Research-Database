{
 "cells": [
  {
   "cell_type": "code",
   "execution_count": 1,
   "id": "79b3c307",
   "metadata": {},
   "outputs": [],
   "source": [
    "from kafka.consumer import KafkaConsumer    #to initialize the consumer\n",
    "from kafka.producer.kafka import KafkaProducer    #to initialize the producer\n",
    "from kafka.errors import KafkaError\n",
    "from struct import pack, unpack\n",
    "import mmh3     #for hashing\n",
    "import math     \n",
    "import json    #for loading data"
   ]
  },
  {
   "cell_type": "code",
   "execution_count": 2,
   "id": "44c5846a",
   "metadata": {},
   "outputs": [],
   "source": [
    "#to use kafka admin ===> needed for topic creation\n",
    "from kafka.admin import KafkaAdminClient, NewTopic\n",
    "import re\n",
    "import string"
   ]
  },
  {
   "cell_type": "code",
   "execution_count": 3,
   "id": "94878b7d",
   "metadata": {},
   "outputs": [],
   "source": [
    "#register kafka adminclient\n",
    "admin_client = KafkaAdminClient(bootstrap_servers='127.0.0.1:9092')"
   ]
  },
  {
   "cell_type": "code",
   "execution_count": 5,
   "id": "630f72b9",
   "metadata": {},
   "outputs": [],
   "source": [
    "#Generate 20 topics and save its value in a list called venueTopic_list\n",
    "venueTopic_list =[]\n",
    "for i in range(0,20):\n",
    "    s = 'venueTopic' + str(i)   #create topic name\n",
    "    venueTopic_list.append(s)   #add topic to list\n",
    "    new_topics = NewTopic(s, num_partitions=1, replication_factor=1)    #mention details for topic\n",
    "    admin_client.create_topics([new_topics])     #create new topic"
   ]
  },
  {
   "cell_type": "code",
   "execution_count": 2,
   "id": "77f0bbb7",
   "metadata": {},
   "outputs": [],
   "source": [
    "#bin\\windows\\kafka-console-producer --bootstrap-server 127.0.0.1:9092 --topic input-topic\n",
    "#bin\\windows\\kafka-console-consumer --bootstrap-server 127.0.0.1:9092 --topic output-topic"
   ]
  },
  {
   "cell_type": "code",
   "execution_count": 6,
   "id": "301a20ce",
   "metadata": {},
   "outputs": [],
   "source": [
    "import pickle  \n",
    "with open('assignment3_Q1_pickle', 'rb') as f:\n",
    "   res = pickle.load(f)               # load method is used to load the contents of a pickle file\n"
   ]
  },
  {
   "cell_type": "code",
   "execution_count": 7,
   "id": "164468a1",
   "metadata": {},
   "outputs": [],
   "source": [
    "#used to determine trailing number of zeros\n",
    "def trailing_zeros(n):\n",
    "    if n == 0:\n",
    "        return 16   #if number is zero we return 16 as max number\n",
    "    \n",
    "    p = 0    #stores trailing zeros\n",
    "    while (n >> p) & 1 == 0:   #else right shift the number and check if the last bit is zero or not\n",
    "        p += 1     #if its zero then increment the count\n",
    "    \n",
    "    return p    #return p"
   ]
  },
  {
   "cell_type": "code",
   "execution_count": 8,
   "id": "9044b555",
   "metadata": {},
   "outputs": [],
   "source": [
    "#performs flajolet martin process\n",
    "def flajolet_martin(hashes):\n",
    "    maxZero = 0   #stroes max trailing zeros\n",
    "    #for every has find which hash has max traling zeros\n",
    "    for i in hashes:   \n",
    "        maxZero = max(maxZero, trailing_zeros(i))\n",
    "    return 2 ** maxZero   #return 2^(max trailing zeros)"
   ]
  },
  {
   "cell_type": "code",
   "execution_count": 23,
   "id": "c75fd0cb",
   "metadata": {},
   "outputs": [],
   "source": [
    "#We divided all the venues into 20 buckets\n",
    "key = len(list(res.keys()))\n",
    "bucket = key/20\n",
    "\n",
    "#initlaize the producer\n",
    "producer = KafkaProducer(bootstrap_servers=['127.0.0.1:9092'])\n",
    "\n",
    "i=0\n",
    "j=0\n",
    "topic = venueTopic_list[j]  #for first run\n",
    "\n",
    "#initialize consumer with first topic\n",
    "consumer = KafkaConsumer(topic, bootstrap_servers=['127.0.0.1:9092'], auto_offset_reset='earliest',\n",
    "                         enable_auto_commit=True,\n",
    "                         group_id='flajolet-martin')\n",
    "\n",
    "#For data in every bucket we initialize the consumer to that particular topic and send data via producer. \n",
    "#For evry new bucket change the topic and place producer and consumer on that topic.\n",
    "#We apply the same steps and output is directed to output topic.\n",
    "\n",
    "for k,v in res.items():\n",
    "    i = i+1\n",
    "    if i%bucket == 0:\n",
    "        j = j+1\n",
    "        if j ==20:\n",
    "            break\n",
    "        topic = venueTopic_list[j]\n",
    "        consumer.close()\n",
    "        consumer = KafkaConsumer(topic, bootstrap_servers=['127.0.0.1:9092'], auto_offset_reset='earliest',\n",
    "                         enable_auto_commit=True,\n",
    "                         group_id='flajolet-martin')\n",
    "        \n",
    "    producer.send(topic, str(v).encode('utf-8'))\n",
    "    message = next(consumer)\n",
    "    value = message.value\n",
    "    words = value.decode('utf-8').split(',')\n",
    "    hashes = [mmh3.hash(word) for word in words]\n",
    "    estimate = flajolet_martin(hashes)\n",
    "    producer.send('output-topic', (str(k) +\"   ===>   \" + str(estimate)).encode('utf-8'))\n",
    "                  \n",
    "                  \n"
   ]
  },
  {
   "cell_type": "code",
   "execution_count": 16,
   "id": "a7afda2c",
   "metadata": {},
   "outputs": [],
   "source": [
    "#initialize kafka producer\n",
    "producer = KafkaProducer(bootstrap_servers=['127.0.0.1:9092'])\n",
    "\n",
    "#Initialize kafka consumer\n",
    "consumer = KafkaConsumer('myTopic05', bootstrap_servers=['127.0.0.1:9092'], auto_offset_reset='earliest',\n",
    "                         enable_auto_commit=True,\n",
    "                         group_id='flajolet-martin')\n",
    "\n",
    "\n",
    "for k,v in res.items():    #for all items in dataset\n",
    "\n",
    "    producer.send('myTopic05', str(v).encode('utf-8')) #send the author data via producer\n",
    "    \n",
    "    message = next(consumer)  #read it on consumer\n",
    "    value = message.value #extract value from it\n",
    "    words = value.decode('utf-8').split(',') #sdecode the data and plit the data via comma. Store it as list \n",
    "    hashes =[]   #used to store all the hashes\n",
    "    for word in words:  #store the hashed data into hash array\n",
    "        hashes.append(mmh3.hash(word)) \n",
    "        \n",
    "    estimate = flajolet_martin(hashes)   #run flajolet martin and obtain the unique elements\n",
    "    \n",
    "    #send the data via producer on target consumer\n",
    "    producer.send('output-topic', (str(k) +\"   ===>   \" + str(estimate)).encode('utf-8'))"
   ]
  },
  {
   "cell_type": "code",
   "execution_count": 11,
   "id": "eed05887",
   "metadata": {},
   "outputs": [
    {
     "data": {
      "text/plain": [
       "['D Haussler',\n",
       " 'C L Monma',\n",
       " 'V K Wei',\n",
       " 'N Robertson',\n",
       " 'P Seymour',\n",
       " 'N Robertson',\n",
       " 'P Seymour',\n",
       " 'Gyula Katona',\n",
       " 'N Sauer',\n",
       " 'A Mukhopadhyay',\n",
       " 'S Smorodinsky',\n",
       " 'Y Yuditsky',\n",
       " 'J H Van Lint',\n",
       " 'N Alon',\n",
       " 'G Ding',\n",
       " 'B Oporowski',\n",
       " 'D Vertigan',\n",
       " 'M Molloy',\n",
       " 'Joseph B Kruskal',\n",
       " 'F Grande',\n",
       " 'R Sanyal',\n",
       " 'H Walther',\n",
       " 'W O Alltop',\n",
       " 'E F Assmus',\n",
       " 'H F Mattson',\n",
       " 'L H Haines',\n",
       " 'H Leonard',\n",
       " ' Haines',\n",
       " 'M D Plummer']"
      ]
     },
     "execution_count": 11,
     "metadata": {},
     "output_type": "execute_result"
    }
   ],
   "source": [
    "words"
   ]
  },
  {
   "cell_type": "code",
   "execution_count": null,
   "id": "dcfe78ad",
   "metadata": {},
   "outputs": [],
   "source": []
  }
 ],
 "metadata": {
  "kernelspec": {
   "display_name": "Python 3 (ipykernel)",
   "language": "python",
   "name": "python3"
  },
  "language_info": {
   "codemirror_mode": {
    "name": "ipython",
    "version": 3
   },
   "file_extension": ".py",
   "mimetype": "text/x-python",
   "name": "python",
   "nbconvert_exporter": "python",
   "pygments_lexer": "ipython3",
   "version": "3.11.2"
  }
 },
 "nbformat": 4,
 "nbformat_minor": 5
}
