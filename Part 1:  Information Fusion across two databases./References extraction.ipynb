{
 "cells": [
  {
   "cell_type": "code",
   "execution_count": 1,
   "id": "647b18de",
   "metadata": {},
   "outputs": [],
   "source": [
    "from grobid_client_python.grobid_client.grobid_client import GrobidClient"
   ]
  },
  {
   "cell_type": "code",
   "execution_count": 2,
   "id": "29a558dc",
   "metadata": {},
   "outputs": [
    {
     "name": "stdout",
     "output_type": "stream",
     "text": [
      "GROBID server is up and running\n"
     ]
    }
   ],
   "source": [
    "\n",
    "\n",
    "dire = 'E:/sampled_data_for_bda/sampled_data_for_bda/2102.07623.pdf'\n",
    "\n",
    "client = GrobidClient(grobid_server='localhost',\n",
    "                 sleep_time=5,\n",
    "                 timeout=180,\n",
    "                 config_path=\"C:/Users/hp/AppData/Local/Programs/Python/Python311/Lib/site-packages/grobid_client_python/config.json\", \n",
    "                 check_server=True)\n",
    "\n"
   ]
  },
  {
   "cell_type": "code",
   "execution_count": 3,
   "id": "6a8f2d2b",
   "metadata": {},
   "outputs": [
    {
     "name": "stdout",
     "output_type": "stream",
     "text": [
      "1512.08279.pdf\n",
      "1 files to process in current batch\n",
      "1911.06565.pdf\n",
      "1 files to process in current batch\n",
      "Processing of E:/TESTING BDA/sampled_data_for_bda/\\1911.06565.pdf failed with error 408 , None\n",
      "1911.06714.pdf\n",
      "1 files to process in current batch\n",
      "Processing of E:/TESTING BDA/sampled_data_for_bda/\\1911.06714.pdf failed with error 408 , None\n",
      "2003.09451.pdf\n",
      "1 files to process in current batch\n",
      "Processing of E:/TESTING BDA/sampled_data_for_bda/\\2003.09451.pdf failed with error 408 , None\n"
     ]
    }
   ],
   "source": [
    "import os\n",
    "new_path = 'E:/TESTING BDA/sampled_data_for_bda/'\n",
    "client.process(\"processReferences\", new_path,\n",
    "        n=10*3,\n",
    "        consolidate_header=True,\n",
    "        verbose=True,\n",
    "        output = os.path.join(new_path, 'references2'))"
   ]
  }
 ],
 "metadata": {
  "kernelspec": {
   "display_name": "Python 3 (ipykernel)",
   "language": "python",
   "name": "python3"
  },
  "language_info": {
   "codemirror_mode": {
    "name": "ipython",
    "version": 3
   },
   "file_extension": ".py",
   "mimetype": "text/x-python",
   "name": "python",
   "nbconvert_exporter": "python",
   "pygments_lexer": "ipython3",
   "version": "3.11.2"
  }
 },
 "nbformat": 4,
 "nbformat_minor": 5
}
