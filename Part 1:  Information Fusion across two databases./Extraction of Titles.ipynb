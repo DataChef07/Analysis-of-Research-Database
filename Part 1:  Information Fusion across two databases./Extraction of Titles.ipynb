{
 "cells": [
  {
   "cell_type": "code",
   "execution_count": null,
   "id": "606cf203",
   "metadata": {},
   "outputs": [],
   "source": [
    "from grobid_client.grobid_client import GrobidClient"
   ]
  },
  {
   "cell_type": "code",
   "execution_count": 1,
   "id": "5635c41d",
   "metadata": {},
   "outputs": [],
   "source": [
    "from grobid_client_python.grobid_client.grobid_client import GrobidClient"
   ]
  },
  {
   "cell_type": "code",
   "execution_count": 2,
   "id": "c566c07a",
   "metadata": {},
   "outputs": [
    {
     "name": "stdout",
     "output_type": "stream",
     "text": [
      "GROBID server is up and running\n"
     ]
    }
   ],
   "source": [
    "\n",
    "\n",
    "dire = 'E:/sampled_data_for_bda/sampled_data_for_bda/2102.07623.pdf'\n",
    "\n",
    "client = GrobidClient(grobid_server='localhost',\n",
    "                 sleep_time=5,\n",
    "                 timeout=70,\n",
    "                 config_path=\"C:/Users/hp/AppData/Local/Programs/Python/Python311/Lib/site-packages/grobid_client_python/config.json\", \n",
    "                 check_server=True)\n",
    "\n"
   ]
  },
  {
   "cell_type": "code",
   "execution_count": 1,
   "id": "b583ca2a",
   "metadata": {},
   "outputs": [],
   "source": [
    "import os\n",
    "new_path = 'E:/TESTING BDA/sampled_data_for_bda/'\n",
    "client.process(\"processHeaderDocument\", new_path,\n",
    "        n=10*3,\n",
    "        consolidate_header=True,\n",
    "        include_raw_citations=False,\n",
    "        include_raw_affiliations=True,\n",
    "        verbose=True,\n",
    "        output = os.path.join(new_path, 'header2'))"
   ]
  },
  {
   "cell_type": "code",
   "execution_count": null,
   "id": "b5078944",
   "metadata": {},
   "outputs": [],
   "source": [
    "\n",
    "# docker run -t --rm -p 8070:8070 lfoppiano/grobid:0.7.2"
   ]
  }
 ],
 "metadata": {
  "kernelspec": {
   "display_name": "Python 3 (ipykernel)",
   "language": "python",
   "name": "python3"
  },
  "language_info": {
   "codemirror_mode": {
    "name": "ipython",
    "version": 3
   },
   "file_extension": ".py",
   "mimetype": "text/x-python",
   "name": "python",
   "nbconvert_exporter": "python",
   "pygments_lexer": "ipython3",
   "version": "3.11.2"
  }
 },
 "nbformat": 4,
 "nbformat_minor": 5
}
